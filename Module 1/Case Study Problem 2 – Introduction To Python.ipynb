{
 "cells": [
  {
   "cell_type": "markdown",
   "id": "2c18442d",
   "metadata": {},
   "source": [
    "# Question 1:"
   ]
  },
  {
   "cell_type": "code",
   "execution_count": 1,
   "id": "b4550262",
   "metadata": {},
   "outputs": [],
   "source": [
    "# creating 1st tuple with values (10,20,30)\n",
    "t1 = (10, 20, 30)\n",
    "\n",
    "# creating 2nd tuple with values (40,50,60)\n",
    "t2 = (40, 50, 60)"
   ]
  },
  {
   "cell_type": "code",
   "execution_count": 2,
   "id": "512b0a03",
   "metadata": {},
   "outputs": [
    {
     "name": "stdout",
     "output_type": "stream",
     "text": [
      "Concatenated Tuple:  (10, 20, 30, 40, 50, 60)\n"
     ]
    }
   ],
   "source": [
    "# a. concatenate the two tuples and store it in \"t_combine\"\n",
    "t_combine = t1 + t2\n",
    "print(\"Concatenated Tuple: \", t_combine)"
   ]
  },
  {
   "cell_type": "code",
   "execution_count": 3,
   "id": "04729ef3",
   "metadata": {},
   "outputs": [
    {
     "name": "stdout",
     "output_type": "stream",
     "text": [
      "Repeated Tuple:  (10, 20, 30, 40, 50, 60, 10, 20, 30, 40, 50, 60, 10, 20, 30, 40, 50, 60)\n"
     ]
    }
   ],
   "source": [
    "# b. Repeat the elements of \"t_combine\" 3 times\n",
    "t_combine_3x = t_combine * 3\n",
    "print(\"Repeated Tuple: \", t_combine_3x)"
   ]
  },
  {
   "cell_type": "code",
   "execution_count": 4,
   "id": "6fce3bc6",
   "metadata": {},
   "outputs": [
    {
     "name": "stdout",
     "output_type": "stream",
     "text": [
      "3rd element of Tuple:  30\n"
     ]
    }
   ],
   "source": [
    "# c. access the 3rd element from \"t_combine\"\n",
    "third_element = t_combine[2]\n",
    "print(\"3rd element of Tuple: \", third_element)"
   ]
  },
  {
   "cell_type": "code",
   "execution_count": 5,
   "id": "369499b2",
   "metadata": {},
   "outputs": [
    {
     "name": "stdout",
     "output_type": "stream",
     "text": [
      "First Three Elements of Tuple:  (10, 20, 30)\n"
     ]
    }
   ],
   "source": [
    "# d. access the first three elements from \"t_combine\"\n",
    "first_three_elements = t_combine[:3]\n",
    "print(\"First Three Elements of Tuple: \", first_three_elements)"
   ]
  },
  {
   "cell_type": "code",
   "execution_count": 6,
   "id": "bfbf94fa",
   "metadata": {},
   "outputs": [
    {
     "name": "stdout",
     "output_type": "stream",
     "text": [
      "Last Three Elements of Tuple:  (40, 50, 60)\n"
     ]
    }
   ],
   "source": [
    "# e. access the last three elements from \"t_combine\"\n",
    "last_three_elements = t_combine[-3:]\n",
    "print(\"Last Three Elements of Tuple: \", last_three_elements)"
   ]
  },
  {
   "cell_type": "markdown",
   "id": "6a40d8c9",
   "metadata": {},
   "source": [
    "# Question 2:"
   ]
  },
  {
   "cell_type": "code",
   "execution_count": 7,
   "id": "c57fdf45",
   "metadata": {},
   "outputs": [
    {
     "name": "stdout",
     "output_type": "stream",
     "text": [
      "[(1, 2, 3), ('a', 'b', 'c'), (True, False)]\n"
     ]
    }
   ],
   "source": [
    "# create a list 'my_list' with tuples\n",
    "my_list = [(1, 2, 3), (\"a\", \"b\", \"c\"), (True, False)]\n",
    "\n",
    "# print the list\n",
    "print(my_list)"
   ]
  },
  {
   "cell_type": "markdown",
   "id": "8c07d5db",
   "metadata": {},
   "source": [
    "# Question 3:"
   ]
  },
  {
   "cell_type": "code",
   "execution_count": 8,
   "id": "742a9dbc",
   "metadata": {},
   "outputs": [
    {
     "name": "stdout",
     "output_type": "stream",
     "text": [
      "[(1, 2, 3), ('a', 'b', 'c'), (True, False), (1, 'a', True)]\n"
     ]
    }
   ],
   "source": [
    "# append a new tuple - (1,'a',True) to 'my_list'\n",
    "my_list.append((1, 'a', True))\n",
    "print(my_list)"
   ]
  },
  {
   "cell_type": "code",
   "execution_count": 9,
   "id": "52321019",
   "metadata": {},
   "outputs": [
    {
     "name": "stdout",
     "output_type": "stream",
     "text": [
      "[(1, 2, 3), ('a', 'b', 'c'), (True, False), (1, 'a', True), ['sparta', 123]]\n"
     ]
    }
   ],
   "source": [
    "# append a new list - [\"sparta\", 123] to 'my_list'\n",
    "my_list.append([\"sparta\", 123])\n",
    "print(my_list)"
   ]
  },
  {
   "cell_type": "markdown",
   "id": "8be56e31",
   "metadata": {},
   "source": [
    "# Question 4:"
   ]
  },
  {
   "cell_type": "code",
   "execution_count": 10,
   "id": "b910296f",
   "metadata": {},
   "outputs": [],
   "source": [
    "# create a dictionary 'fruit'\n",
    "fruit = {'Fruit': (\"Apple\", \"Banana\",\"Mango\",\"Guava\"), 'Cost': (85,54,120,70)}"
   ]
  },
  {
   "cell_type": "code",
   "execution_count": 11,
   "id": "2f2266ca",
   "metadata": {},
   "outputs": [
    {
     "name": "stdout",
     "output_type": "stream",
     "text": [
      "Keys of 'fruit':\n",
      "Fruit\n",
      "Cost\n"
     ]
    }
   ],
   "source": [
    "# extract all the keys from 'fruit'\n",
    "print(\"Keys of 'fruit':\")\n",
    "for key in fruit.keys():\n",
    "    print(key)"
   ]
  },
  {
   "cell_type": "code",
   "execution_count": 12,
   "id": "7fb66268",
   "metadata": {},
   "outputs": [
    {
     "name": "stdout",
     "output_type": "stream",
     "text": [
      "Values of 'fruit':\n",
      "('Apple', 'Banana', 'Mango', 'Guava')\n",
      "(85, 54, 120, 70)\n"
     ]
    }
   ],
   "source": [
    "# extract all the values from 'fruit'\n",
    "print(\"Values of 'fruit':\")\n",
    "for value in fruit.values():\n",
    "    print(value)"
   ]
  },
  {
   "cell_type": "markdown",
   "id": "83c04926",
   "metadata": {},
   "source": [
    "# Question 5:"
   ]
  },
  {
   "cell_type": "code",
   "execution_count": 13,
   "id": "56010926",
   "metadata": {},
   "outputs": [
    {
     "name": "stdout",
     "output_type": "stream",
     "text": [
      "{1, 'a'}\n"
     ]
    }
   ],
   "source": [
    "# create a set 'my_set' with values (1,1,\"a\",\"a\", True, True)\n",
    "my_set = {1, 1, \"a\", \"a\", True, True}\n",
    "\n",
    "# print the set\n",
    "print(my_set)"
   ]
  },
  {
   "cell_type": "code",
   "execution_count": null,
   "id": "cf3cbe6f",
   "metadata": {},
   "outputs": [],
   "source": []
  }
 ],
 "metadata": {
  "kernelspec": {
   "display_name": "Python 3 (ipykernel)",
   "language": "python",
   "name": "python3"
  },
  "language_info": {
   "codemirror_mode": {
    "name": "ipython",
    "version": 3
   },
   "file_extension": ".py",
   "mimetype": "text/x-python",
   "name": "python",
   "nbconvert_exporter": "python",
   "pygments_lexer": "ipython3",
   "version": "3.9.6"
  }
 },
 "nbformat": 4,
 "nbformat_minor": 5
}
