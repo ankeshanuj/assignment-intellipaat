{
 "cells": [
  {
   "cell_type": "code",
   "execution_count": 1,
   "id": "90c1050e",
   "metadata": {},
   "outputs": [
    {
     "name": "stdout",
     "output_type": "stream",
     "text": [
      "b is greater\n"
     ]
    }
   ],
   "source": [
    "a = 10\n",
    "b = 20\n",
    "if a>b:\n",
    "    print(\"a is greater \")\n",
    "elif b>a:\n",
    "    print(\"b is greater\")\n",
    "else:\n",
    "    print(\"both are wrong\")"
   ]
  },
  {
   "cell_type": "code",
   "execution_count": null,
   "id": "d66b051c",
   "metadata": {},
   "outputs": [],
   "source": []
  }
 ],
 "metadata": {
  "kernelspec": {
   "display_name": "Python 3 (ipykernel)",
   "language": "python",
   "name": "python3"
  },
  "language_info": {
   "codemirror_mode": {
    "name": "ipython",
    "version": 3
   },
   "file_extension": ".py",
   "mimetype": "text/x-python",
   "name": "python",
   "nbconvert_exporter": "python",
   "pygments_lexer": "ipython3",
   "version": "3.10.7"
  }
 },
 "nbformat": 4,
 "nbformat_minor": 5
}
