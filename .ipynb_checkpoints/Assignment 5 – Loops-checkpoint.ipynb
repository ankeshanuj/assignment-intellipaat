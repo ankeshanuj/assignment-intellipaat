{
 "cells": [
  {
   "cell_type": "code",
   "execution_count": 8,
   "id": "571c072d",
   "metadata": {},
   "outputs": [
    {
     "name": "stdout",
     "output_type": "stream",
     "text": [
      "10 even\n",
      "4 even\n",
      "26 even\n",
      "4 even\n",
      "24 even\n",
      "54 even\n"
     ]
    }
   ],
   "source": [
    "a = [10,23,4,26,4,75,24,54]\n",
    "for b in a:\n",
    "    if b%2 == 0:\n",
    "        print(b, \"even\")"
   ]
  },
  {
   "cell_type": "code",
   "execution_count": null,
   "id": "6ddd8edc",
   "metadata": {},
   "outputs": [],
   "source": []
  },
  {
   "cell_type": "code",
   "execution_count": null,
   "id": "f81a3d02",
   "metadata": {},
   "outputs": [],
   "source": []
  }
 ],
 "metadata": {
  "kernelspec": {
   "display_name": "Python 3 (ipykernel)",
   "language": "python",
   "name": "python3"
  },
  "language_info": {
   "codemirror_mode": {
    "name": "ipython",
    "version": 3
   },
   "file_extension": ".py",
   "mimetype": "text/x-python",
   "name": "python",
   "nbconvert_exporter": "python",
   "pygments_lexer": "ipython3",
   "version": "3.10.7"
  }
 },
 "nbformat": 4,
 "nbformat_minor": 5
}
