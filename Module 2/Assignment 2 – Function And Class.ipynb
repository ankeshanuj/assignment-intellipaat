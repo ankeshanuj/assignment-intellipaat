{
 "cells": [
  {
   "cell_type": "markdown",
   "id": "436cfb30",
   "metadata": {},
   "source": [
    "# Question 1:"
   ]
  },
  {
   "cell_type": "code",
   "execution_count": 1,
   "id": "5f609dbf",
   "metadata": {},
   "outputs": [],
   "source": [
    "# 1. Create a function named 'factor' that can only accepts 1 argument. The function should return the factorial of that number."
   ]
  },
  {
   "cell_type": "code",
   "execution_count": 2,
   "id": "69a43bb2",
   "metadata": {},
   "outputs": [],
   "source": [
    "def factor(num):\n",
    "    if num == 0:\n",
    "        return 1\n",
    "    else:\n",
    "        return num * factor(num - 1)"
   ]
  },
  {
   "cell_type": "code",
   "execution_count": 3,
   "id": "a436a5e5",
   "metadata": {},
   "outputs": [
    {
     "name": "stdout",
     "output_type": "stream",
     "text": [
      "Factorial of 5 is 120\n"
     ]
    }
   ],
   "source": [
    "n = 5\n",
    "print(\"Factorial of\", n, \"is\", factor(n))"
   ]
  },
  {
   "cell_type": "markdown",
   "id": "39b49d02",
   "metadata": {},
   "source": [
    "# Question 2:"
   ]
  },
  {
   "cell_type": "code",
   "execution_count": 4,
   "id": "5e54f9de",
   "metadata": {},
   "outputs": [],
   "source": [
    "# 2. Create a function named 'check_string', the function should accept a string data from the user and the function should check if the user input contains the letter 's' in it. If it contains the letter 's' then print- 'The string is containing the letter 's\", if not then print- 'The string doesn't contain the letter 's\"."
   ]
  },
  {
   "cell_type": "code",
   "execution_count": 5,
   "id": "e465d916",
   "metadata": {},
   "outputs": [],
   "source": [
    "def check_string(user_input):\n",
    "    if 's' in user_input:\n",
    "        print(\"The string is containing the letter 's'\")\n",
    "    else:\n",
    "        print(\"The string doesn't contain the letter 's'\")"
   ]
  },
  {
   "cell_type": "code",
   "execution_count": 6,
   "id": "abc1404f",
   "metadata": {},
   "outputs": [
    {
     "name": "stdout",
     "output_type": "stream",
     "text": [
      "Enter a string: hvsdsvfv\n",
      "The string is containing the letter 's'\n"
     ]
    }
   ],
   "source": [
    "string = input(\"Enter a string: \")\n",
    "check_string(string)"
   ]
  },
  {
   "cell_type": "markdown",
   "id": "af0bb519",
   "metadata": {},
   "source": [
    "# Question 3:"
   ]
  },
  {
   "cell_type": "code",
   "execution_count": 7,
   "id": "c61982ae",
   "metadata": {},
   "outputs": [],
   "source": [
    "# 3. Create a class named 'student' and inside the class, create a function named 'fun1'- this method should accepts the user defined input and return that value.\n",
    "#     a. Create another method named- message() and that method should print the user defined input that we have defined in 'fun1'."
   ]
  },
  {
   "cell_type": "code",
   "execution_count": 8,
   "id": "0ed443e0",
   "metadata": {},
   "outputs": [],
   "source": [
    "class student:\n",
    "    def fun1(self, x):\n",
    "        return x\n",
    "    \n",
    "    def message(self, x):\n",
    "        print(\"The user defined input is:\", x)"
   ]
  },
  {
   "cell_type": "code",
   "execution_count": 9,
   "id": "6336888f",
   "metadata": {},
   "outputs": [
    {
     "name": "stdout",
     "output_type": "stream",
     "text": [
      "The user defined input is: Hello World\n"
     ]
    }
   ],
   "source": [
    "# Create an object of the class\n",
    "s = student()\n",
    "\n",
    "# Call the 'fun1' method\n",
    "result = s.fun1(\"Hello World\")\n",
    "\n",
    "# Call the 'message' method\n",
    "s.message(result)"
   ]
  },
  {
   "cell_type": "markdown",
   "id": "9bb4e67e",
   "metadata": {},
   "source": [
    "# Question 4:"
   ]
  },
  {
   "cell_type": "code",
   "execution_count": 10,
   "id": "ee93288f",
   "metadata": {},
   "outputs": [],
   "source": [
    "# 4. Create a lambda function that should double or multiply the number (that we will be passing in the lambda function) by 2. Store the lambda function in a variable named 'double_num'. "
   ]
  },
  {
   "cell_type": "code",
   "execution_count": 11,
   "id": "d7d03240",
   "metadata": {},
   "outputs": [
    {
     "name": "stdout",
     "output_type": "stream",
     "text": [
      "10\n"
     ]
    }
   ],
   "source": [
    "double_num = lambda x: x * 2\n",
    "result = double_num(5)\n",
    "print(result)"
   ]
  },
  {
   "cell_type": "markdown",
   "id": "25323065",
   "metadata": {},
   "source": [
    "# Question 5:"
   ]
  },
  {
   "cell_type": "code",
   "execution_count": 12,
   "id": "0323d4ed",
   "metadata": {},
   "outputs": [],
   "source": [
    "# 5. Take user input string and check whether that string is palindrome or not."
   ]
  },
  {
   "cell_type": "code",
   "execution_count": 13,
   "id": "4788a786",
   "metadata": {},
   "outputs": [
    {
     "name": "stdout",
     "output_type": "stream",
     "text": [
      "Enter a string: jcb vefvef\n",
      "The given string is not a palindrome.\n"
     ]
    }
   ],
   "source": [
    "# take user input string\n",
    "string = input(\"Enter a string: \")\n",
    "\n",
    "# check whether the string is palindrome or not\n",
    "if string == string[::-1]:\n",
    "    print(\"The given string is a palindrome.\")\n",
    "else:\n",
    "    print(\"The given string is not a palindrome.\")"
   ]
  },
  {
   "cell_type": "code",
   "execution_count": null,
   "id": "285fc87b",
   "metadata": {},
   "outputs": [],
   "source": []
  }
 ],
 "metadata": {
  "kernelspec": {
   "display_name": "Python 3 (ipykernel)",
   "language": "python",
   "name": "python3"
  },
  "language_info": {
   "codemirror_mode": {
    "name": "ipython",
    "version": 3
   },
   "file_extension": ".py",
   "mimetype": "text/x-python",
   "name": "python",
   "nbconvert_exporter": "python",
   "pygments_lexer": "ipython3",
   "version": "3.9.6"
  }
 },
 "nbformat": 4,
 "nbformat_minor": 5
}
