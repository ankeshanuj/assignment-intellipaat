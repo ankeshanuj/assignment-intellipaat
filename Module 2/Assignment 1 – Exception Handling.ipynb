{
 "cells": [
  {
   "cell_type": "markdown",
   "id": "24d34ec6",
   "metadata": {},
   "source": [
    "# Question 1:"
   ]
  },
  {
   "cell_type": "code",
   "execution_count": 1,
   "id": "158f45cd",
   "metadata": {},
   "outputs": [
    {
     "name": "stdout",
     "output_type": "stream",
     "text": [
      "Enter the first number: 10\n",
      "Enter the second number: 25\n",
      "The quotient of the two numbers is: 0.4\n"
     ]
    }
   ],
   "source": [
    "# 1. With the help of try and inbuilt exception, display the exception.\n",
    "\n",
    "# taking input from the user\n",
    "num1 = input(\"Enter the first number: \")\n",
    "num2 = input(\"Enter the second number: \")\n",
    "\n",
    "try:\n",
    "    # converting the input to int\n",
    "    num1 = int(num1)\n",
    "    num2 = int(num2)\n",
    "\n",
    "    # calculating the quotient\n",
    "    quotient = num1 / num2\n",
    "\n",
    "    # displaying the result\n",
    "    print(\"The quotient of the two numbers is:\", quotient)\n",
    "\n",
    "except Exception as e:\n",
    "    # displaying the exception\n",
    "    print(\"An exception occurred:\", e)"
   ]
  },
  {
   "cell_type": "markdown",
   "id": "428bc9f4",
   "metadata": {},
   "source": [
    "# Question 2:"
   ]
  },
  {
   "cell_type": "code",
   "execution_count": 4,
   "id": "a38b41da",
   "metadata": {},
   "outputs": [
    {
     "name": "stdout",
     "output_type": "stream",
     "text": [
      "Enter the first number: 13\n",
      "Enter the second number: 29\n",
      "The result of the division operation is: 0.4482758620689655\n"
     ]
    }
   ],
   "source": [
    "# 2. Take two user inputs and pass those input variables in a try block. If the user input is 0, then throw the Zero DivisionError exception.\n",
    "\n",
    "try:\n",
    "    # taking two inputs from the user\n",
    "    num1 = int(input(\"Enter the first number: \"))\n",
    "    num2 = int(input(\"Enter the second number: \"))\n",
    "\n",
    "    # checking if either input is zero\n",
    "    if num1 == 0 or num2 == 0:\n",
    "        raise ZeroDivisionError(\"Cannot divide by zero\")\n",
    "\n",
    "    # performing division operation\n",
    "    result = num1 / num2\n",
    "\n",
    "    # displaying the result\n",
    "    print(\"The result of the division operation is:\", result)\n",
    "\n",
    "except ZeroDivisionError as e:\n",
    "    # displaying the exception message\n",
    "    print(\"Exception occurred:\", e)\n",
    "\n",
    "except ValueError as e:\n",
    "    # displaying the exception message\n",
    "    print(\"Exception occurred:\", e)"
   ]
  },
  {
   "cell_type": "markdown",
   "id": "0207c61d",
   "metadata": {},
   "source": [
    "# Question 3:"
   ]
  },
  {
   "cell_type": "code",
   "execution_count": 5,
   "id": "e915af0a",
   "metadata": {},
   "outputs": [
    {
     "name": "stdout",
     "output_type": "stream",
     "text": [
      "Exception occurred: math range error\n"
     ]
    }
   ],
   "source": [
    "# 3. Import math package and with the help of math package, print - math.exp(50000). Now use the inbuilt OverflowError exception on the math.exp(), and print the exception.\n",
    "\n",
    "import math\n",
    "\n",
    "try:\n",
    "    # calculating the exponential of a large number\n",
    "    result = math.exp(50000)\n",
    "    \n",
    "    # printing the result\n",
    "    print(result)\n",
    "    \n",
    "except OverflowError as e:\n",
    "    # printing the exception message\n",
    "    print(\"Exception occurred:\", e)"
   ]
  },
  {
   "cell_type": "markdown",
   "id": "d7f9f783",
   "metadata": {},
   "source": [
    "# Question 4:"
   ]
  },
  {
   "cell_type": "code",
   "execution_count": 6,
   "id": "4ff6d3ac",
   "metadata": {},
   "outputs": [],
   "source": [
    "# 4. Now install the 'termcolor' package in the anaconda prompt, and import that package to provide the colors to the print statement in Jupyter Notebook."
   ]
  },
  {
   "cell_type": "code",
   "execution_count": 8,
   "id": "feeed681",
   "metadata": {},
   "outputs": [],
   "source": [
    "# conda install termcolor"
   ]
  },
  {
   "cell_type": "code",
   "execution_count": 9,
   "id": "3c48a1a6",
   "metadata": {},
   "outputs": [
    {
     "ename": "ModuleNotFoundError",
     "evalue": "No module named 'termcolor'",
     "output_type": "error",
     "traceback": [
      "\u001b[1;31m---------------------------------------------------------------------------\u001b[0m",
      "\u001b[1;31mModuleNotFoundError\u001b[0m                       Traceback (most recent call last)",
      "Cell \u001b[1;32mIn[9], line 1\u001b[0m\n\u001b[1;32m----> 1\u001b[0m \u001b[38;5;28;01mfrom\u001b[39;00m \u001b[38;5;21;01mtermcolor\u001b[39;00m \u001b[38;5;28;01mimport\u001b[39;00m colored\n\u001b[0;32m      3\u001b[0m \u001b[38;5;28mprint\u001b[39m(colored(\u001b[38;5;124m\"\u001b[39m\u001b[38;5;124mThis message is in red color!\u001b[39m\u001b[38;5;124m\"\u001b[39m, \u001b[38;5;124m\"\u001b[39m\u001b[38;5;124mred\u001b[39m\u001b[38;5;124m\"\u001b[39m))\n",
      "\u001b[1;31mModuleNotFoundError\u001b[0m: No module named 'termcolor'"
     ]
    }
   ],
   "source": [
    "from termcolor import colored\n",
    "\n",
    "print(colored(\"This message is in red color!\", \"red\"))"
   ]
  },
  {
   "cell_type": "markdown",
   "id": "1fa447ab",
   "metadata": {},
   "source": [
    "# Question 5:"
   ]
  },
  {
   "cell_type": "code",
   "execution_count": 10,
   "id": "b497c9b5",
   "metadata": {},
   "outputs": [],
   "source": [
    "# 5. Create your own exception with the help of class and functions.\n",
    "\n",
    "class MyException(Exception):\n",
    "    def __init__(self, message):\n",
    "        self.message = message"
   ]
  },
  {
   "cell_type": "code",
   "execution_count": 11,
   "id": "0dd6e14f",
   "metadata": {},
   "outputs": [
    {
     "ename": "MyException",
     "evalue": "x cannot be negative",
     "output_type": "error",
     "traceback": [
      "\u001b[1;31m---------------------------------------------------------------------------\u001b[0m",
      "\u001b[1;31mMyException\u001b[0m                               Traceback (most recent call last)",
      "Cell \u001b[1;32mIn[11], line 7\u001b[0m\n\u001b[0;32m      4\u001b[0m     \u001b[38;5;28;01melse\u001b[39;00m:\n\u001b[0;32m      5\u001b[0m         \u001b[38;5;28mprint\u001b[39m(\u001b[38;5;124m\"\u001b[39m\u001b[38;5;124mx is positive\u001b[39m\u001b[38;5;124m\"\u001b[39m)\n\u001b[1;32m----> 7\u001b[0m my_function(\u001b[38;5;241m-\u001b[39m\u001b[38;5;241m1\u001b[39m)\n",
      "Cell \u001b[1;32mIn[11], line 3\u001b[0m, in \u001b[0;36mmy_function\u001b[1;34m(x)\u001b[0m\n\u001b[0;32m      1\u001b[0m \u001b[38;5;28;01mdef\u001b[39;00m \u001b[38;5;21mmy_function\u001b[39m(x):\n\u001b[0;32m      2\u001b[0m     \u001b[38;5;28;01mif\u001b[39;00m x \u001b[38;5;241m<\u001b[39m \u001b[38;5;241m0\u001b[39m:\n\u001b[1;32m----> 3\u001b[0m         \u001b[38;5;28;01mraise\u001b[39;00m MyException(\u001b[38;5;124m\"\u001b[39m\u001b[38;5;124mx cannot be negative\u001b[39m\u001b[38;5;124m\"\u001b[39m)\n\u001b[0;32m      4\u001b[0m     \u001b[38;5;28;01melse\u001b[39;00m:\n\u001b[0;32m      5\u001b[0m         \u001b[38;5;28mprint\u001b[39m(\u001b[38;5;124m\"\u001b[39m\u001b[38;5;124mx is positive\u001b[39m\u001b[38;5;124m\"\u001b[39m)\n",
      "\u001b[1;31mMyException\u001b[0m: x cannot be negative"
     ]
    }
   ],
   "source": [
    "def my_function(x):\n",
    "    if x < 0:\n",
    "        raise MyException(\"x cannot be negative\")\n",
    "    else:\n",
    "        print(\"x is positive\")\n",
    "\n",
    "my_function(-1)  # This will raise MyException"
   ]
  },
  {
   "cell_type": "code",
   "execution_count": null,
   "id": "872d2c9a",
   "metadata": {},
   "outputs": [],
   "source": []
  }
 ],
 "metadata": {
  "kernelspec": {
   "display_name": "Python 3 (ipykernel)",
   "language": "python",
   "name": "python3"
  },
  "language_info": {
   "codemirror_mode": {
    "name": "ipython",
    "version": 3
   },
   "file_extension": ".py",
   "mimetype": "text/x-python",
   "name": "python",
   "nbconvert_exporter": "python",
   "pygments_lexer": "ipython3",
   "version": "3.9.6"
  }
 },
 "nbformat": 4,
 "nbformat_minor": 5
}
