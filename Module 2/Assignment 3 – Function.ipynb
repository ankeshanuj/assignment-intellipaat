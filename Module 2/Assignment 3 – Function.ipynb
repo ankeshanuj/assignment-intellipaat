{
 "cells": [
  {
   "cell_type": "markdown",
   "id": "cc48870d",
   "metadata": {},
   "source": [
    "# Question 1:"
   ]
  },
  {
   "cell_type": "code",
   "execution_count": 3,
   "id": "7c7b1e26",
   "metadata": {},
   "outputs": [],
   "source": [
    "# 1. Create a class named 'Super' and inside that class define a user-defined function named fun1.\n",
    "#     a. Inside the 'fun1' function, pass the message \"This is function 1 in the Super class.\" in the print statement."
   ]
  },
  {
   "cell_type": "code",
   "execution_count": 10,
   "id": "771b50c9",
   "metadata": {},
   "outputs": [],
   "source": [
    "# Define the Super class\n",
    "class Super:\n",
    "    # Define the fun1 function inside the Super class\n",
    "    def fun1(self):\n",
    "        print(\"This is function 1 in the Super class.\")"
   ]
  },
  {
   "cell_type": "markdown",
   "id": "50fc15b9",
   "metadata": {},
   "source": [
    "# Question 2:"
   ]
  },
  {
   "cell_type": "code",
   "execution_count": 7,
   "id": "ec4a3d04",
   "metadata": {},
   "outputs": [],
   "source": [
    "# 2. Create another classed named 'Modified_Super' and inherit this class from the Super class.\n",
    "#     a. Inside the Modified _Super class, create a function named 'funl' and pass the following message inside the print statement: 'This is function 1 in the Modified Super class.'\n",
    "#     b. Create another user-defined function named 'fun2' and pass the message: 'This is the 2nd function from the Modified Super class' in the print statement.\n",
    "#     c. After that, now create an object for the Modified_Super class and call the fun1()."
   ]
  },
  {
   "cell_type": "code",
   "execution_count": 11,
   "id": "844941cd",
   "metadata": {},
   "outputs": [
    {
     "name": "stdout",
     "output_type": "stream",
     "text": [
      "This is function 1 in the Modified Super class.\n"
     ]
    }
   ],
   "source": [
    "# Define the Modified_Super class and inherit from Super class\n",
    "class Modified_Super(Super):\n",
    "    # Define the funl function inside the Modified_Super class\n",
    "    def fun1(self):\n",
    "        print(\"This is function 1 in the Modified Super class.\")\n",
    "    \n",
    "    # Define the fun2 function inside the Modified_Super class\n",
    "    def fun2(self):\n",
    "        print(\"This is the 2nd function from the Modified Super class.\")\n",
    "\n",
    "# Create an object of the Modified_Super class\n",
    "mod_super_obj = Modified_Super()\n",
    "\n",
    "# Call the fun1 function of the Modified_Super class\n",
    "mod_super_obj.fun1()\n"
   ]
  },
  {
   "cell_type": "markdown",
   "id": "b1437ad3",
   "metadata": {},
   "source": [
    "# Question 3:"
   ]
  },
  {
   "cell_type": "code",
   "execution_count": 12,
   "id": "dd5ba0c0",
   "metadata": {},
   "outputs": [],
   "source": [
    "# 3. Create 2 methods named 'Hello'. In the 1st Hello method, pass only one argument and pass this message: 'This function is only having 1 argument'. And in the 2nd Hello method, pass two arguments and pass this message: 'This function is having 2 arguments'.\n",
    "#     a. Try to call both the methods and analyze the output of both the methods."
   ]
  },
  {
   "cell_type": "code",
   "execution_count": 24,
   "id": "418a9dd6",
   "metadata": {},
   "outputs": [],
   "source": [
    "class Greetings:\n",
    "    def Hello(self, arg1):\n",
    "        print(\"This function is only having 1 argument\")\n",
    "    \n",
    "    def Hello(self, arg1, arg2):\n",
    "        print(\"This function is having 2 arguments\")"
   ]
  },
  {
   "cell_type": "code",
   "execution_count": 25,
   "id": "87e08b35",
   "metadata": {},
   "outputs": [
    {
     "ename": "TypeError",
     "evalue": "Hello() missing 1 required positional argument: 'arg2'",
     "output_type": "error",
     "traceback": [
      "\u001b[1;31m---------------------------------------------------------------------------\u001b[0m",
      "\u001b[1;31mTypeError\u001b[0m                                 Traceback (most recent call last)",
      "Cell \u001b[1;32mIn[25], line 2\u001b[0m\n\u001b[0;32m      1\u001b[0m g \u001b[38;5;241m=\u001b[39m Greetings()\n\u001b[1;32m----> 2\u001b[0m g\u001b[38;5;241m.\u001b[39mHello(\u001b[38;5;124m\"\u001b[39m\u001b[38;5;124marg1\u001b[39m\u001b[38;5;124m\"\u001b[39m)\n\u001b[0;32m      3\u001b[0m g\u001b[38;5;241m.\u001b[39mHello(\u001b[38;5;124m\"\u001b[39m\u001b[38;5;124marg1\u001b[39m\u001b[38;5;124m\"\u001b[39m, \u001b[38;5;124m\"\u001b[39m\u001b[38;5;124marg2\u001b[39m\u001b[38;5;124m\"\u001b[39m)\n",
      "\u001b[1;31mTypeError\u001b[0m: Hello() missing 1 required positional argument: 'arg2'"
     ]
    }
   ],
   "source": [
    "g = Greetings()\n",
    "g.Hello(\"arg1\")\n",
    "g.Hello(\"arg1\", \"arg2\")"
   ]
  },
  {
   "cell_type": "markdown",
   "id": "019b4c13",
   "metadata": {},
   "source": [
    "# Question 4:"
   ]
  },
  {
   "cell_type": "code",
   "execution_count": 27,
   "id": "6af06fa7",
   "metadata": {},
   "outputs": [],
   "source": [
    "# 4. Create a method named 'Sum' that can accept multiple user inputs. Now add those user-defined input values using for loop and the function should return the addition of the numbers."
   ]
  },
  {
   "cell_type": "code",
   "execution_count": 28,
   "id": "b18294cc",
   "metadata": {},
   "outputs": [],
   "source": [
    "class Calculator:\n",
    "    def Sum(self, *args):\n",
    "        total = 0\n",
    "        for num in args:\n",
    "            total += num\n",
    "        return total"
   ]
  },
  {
   "cell_type": "code",
   "execution_count": 29,
   "id": "aa25aa52",
   "metadata": {},
   "outputs": [
    {
     "name": "stdout",
     "output_type": "stream",
     "text": [
      "6\n",
      "22\n"
     ]
    }
   ],
   "source": [
    "calc = Calculator()\n",
    "print(calc.Sum(1, 2, 3))\n",
    "print(calc.Sum(4, 5, 6, 7))"
   ]
  },
  {
   "cell_type": "markdown",
   "id": "a630f820",
   "metadata": {},
   "source": [
    "# Question 5:"
   ]
  },
  {
   "cell_type": "code",
   "execution_count": 30,
   "id": "9b7575fc",
   "metadata": {},
   "outputs": [],
   "source": [
    "# 5. Create a class named 'Encapsulation':\n",
    "#     a. Inside the class, first create a constructor. Inside the constructor, initialize originalValue variable as 10.\n",
    "#     b. After creating the constructor, define a function named 'Value' and this function should return the variable that we have initialized in the constructor.\n",
    "#     c. Now create 2nd function named setValue, and pass an argument named 'newValue'. The task of this function will be to replace the value of the originalValue  variable by the value of newValue variable."
   ]
  },
  {
   "cell_type": "code",
   "execution_count": 31,
   "id": "02cc574e",
   "metadata": {},
   "outputs": [],
   "source": [
    "class Encapsulation:\n",
    "    def __init__(self):\n",
    "        self.__originalValue = 10\n",
    "\n",
    "    def getValue(self):\n",
    "        return self.__originalValue\n",
    "\n",
    "    def setValue(self, newValue):\n",
    "        self.__originalValue = newValue"
   ]
  },
  {
   "cell_type": "code",
   "execution_count": 32,
   "id": "df3e3370",
   "metadata": {},
   "outputs": [
    {
     "name": "stdout",
     "output_type": "stream",
     "text": [
      "10\n",
      "20\n"
     ]
    }
   ],
   "source": [
    "e = Encapsulation()\n",
    "print(e.getValue())\n",
    "e.setValue(20)\n",
    "print(e.getValue())"
   ]
  },
  {
   "cell_type": "code",
   "execution_count": null,
   "id": "9a190af3",
   "metadata": {},
   "outputs": [],
   "source": []
  }
 ],
 "metadata": {
  "kernelspec": {
   "display_name": "Python 3 (ipykernel)",
   "language": "python",
   "name": "python3"
  },
  "language_info": {
   "codemirror_mode": {
    "name": "ipython",
    "version": 3
   },
   "file_extension": ".py",
   "mimetype": "text/x-python",
   "name": "python",
   "nbconvert_exporter": "python",
   "pygments_lexer": "ipython3",
   "version": "3.9.6"
  }
 },
 "nbformat": 4,
 "nbformat_minor": 5
}
