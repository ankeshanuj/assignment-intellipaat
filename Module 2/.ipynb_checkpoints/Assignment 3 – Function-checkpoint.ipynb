{
 "cells": [
  {
   "cell_type": "markdown",
   "id": "dd12f377",
   "metadata": {},
   "source": [
    "# Question 1:"
   ]
  },
  {
   "cell_type": "code",
   "execution_count": 3,
   "id": "2f0904f7",
   "metadata": {},
   "outputs": [],
   "source": [
    "# 1. Create a class named 'Super' and inside that class define a user-defined function named fun1.\n",
    "#     a. Inside the 'fun1' function, pass the message \"This is function 1 in the Super class.\" in the print statement."
   ]
  },
  {
   "cell_type": "code",
   "execution_count": 10,
   "id": "235a2c7d",
   "metadata": {},
   "outputs": [],
   "source": [
    "# Define the Super class\n",
    "class Super:\n",
    "    # Define the fun1 function inside the Super class\n",
    "    def fun1(self):\n",
    "        print(\"This is function 1 in the Super class.\")"
   ]
  },
  {
   "cell_type": "markdown",
   "id": "4516ffc5",
   "metadata": {},
   "source": [
    "# Question 2:"
   ]
  },
  {
   "cell_type": "code",
   "execution_count": 7,
   "id": "f1c788aa",
   "metadata": {},
   "outputs": [],
   "source": [
    "# 2. Create another classed named 'Modified_Super' and inherit this class from the Super class.\n",
    "#     a. Inside the Modified _Super class, create a function named 'funl' and pass the following message inside the print statement: 'This is function 1 in the Modified Super class.'\n",
    "#     b. Create another user-defined function named 'fun2' and pass the message: 'This is the 2nd function from the Modified Super class' in the print statement.\n",
    "#     c. After that, now create an object for the Modified_Super class and call the fun1()."
   ]
  },
  {
   "cell_type": "code",
   "execution_count": 11,
   "id": "ab91bede",
   "metadata": {},
   "outputs": [
    {
     "name": "stdout",
     "output_type": "stream",
     "text": [
      "This is function 1 in the Modified Super class.\n"
     ]
    }
   ],
   "source": [
    "# Define the Modified_Super class and inherit from Super class\n",
    "class Modified_Super(Super):\n",
    "    # Define the funl function inside the Modified_Super class\n",
    "    def fun1(self):\n",
    "        print(\"This is function 1 in the Modified Super class.\")\n",
    "    \n",
    "    # Define the fun2 function inside the Modified_Super class\n",
    "    def fun2(self):\n",
    "        print(\"This is the 2nd function from the Modified Super class.\")\n",
    "\n",
    "# Create an object of the Modified_Super class\n",
    "mod_super_obj = Modified_Super()\n",
    "\n",
    "# Call the fun1 function of the Modified_Super class\n",
    "mod_super_obj.fun1()\n"
   ]
  },
  {
   "cell_type": "markdown",
   "id": "f5898941",
   "metadata": {},
   "source": [
    "# Question 3:"
   ]
  },
  {
   "cell_type": "code",
   "execution_count": 12,
   "id": "7ed0f14d",
   "metadata": {},
   "outputs": [],
   "source": [
    "# 3. Create 2 methods named 'Hello'. In the 1st Hello method, pass only one argument and pass this message: 'This function is only having 1 argument'. And in the 2nd Hello method, pass two arguments and pass this message: 'This function is having 2 arguments'.\n",
    "#     a. Try to call both the methods and analyze the output of both the methods."
   ]
  },
  {
   "cell_type": "code",
   "execution_count": 24,
   "id": "31f9ab8c",
   "metadata": {},
   "outputs": [],
   "source": [
    "class Greetings:\n",
    "    def Hello(self, arg1):\n",
    "        print(\"This function is only having 1 argument\")\n",
    "    \n",
    "    def Hello(self, arg1, arg2):\n",
    "        print(\"This function is having 2 arguments\")"
   ]
  },
  {
   "cell_type": "code",
   "execution_count": 25,
   "id": "16b850f3",
   "metadata": {},
   "outputs": [
    {
     "ename": "TypeError",
     "evalue": "Hello() missing 1 required positional argument: 'arg2'",
     "output_type": "error",
     "traceback": [
      "\u001b[1;31m---------------------------------------------------------------------------\u001b[0m",
      "\u001b[1;31mTypeError\u001b[0m                                 Traceback (most recent call last)",
      "Cell \u001b[1;32mIn[25], line 2\u001b[0m\n\u001b[0;32m      1\u001b[0m g \u001b[38;5;241m=\u001b[39m Greetings()\n\u001b[1;32m----> 2\u001b[0m g\u001b[38;5;241m.\u001b[39mHello(\u001b[38;5;124m\"\u001b[39m\u001b[38;5;124marg1\u001b[39m\u001b[38;5;124m\"\u001b[39m)\n\u001b[0;32m      3\u001b[0m g\u001b[38;5;241m.\u001b[39mHello(\u001b[38;5;124m\"\u001b[39m\u001b[38;5;124marg1\u001b[39m\u001b[38;5;124m\"\u001b[39m, \u001b[38;5;124m\"\u001b[39m\u001b[38;5;124marg2\u001b[39m\u001b[38;5;124m\"\u001b[39m)\n",
      "\u001b[1;31mTypeError\u001b[0m: Hello() missing 1 required positional argument: 'arg2'"
     ]
    }
   ],
   "source": [
    "g = Greetings()\n",
    "g.Hello(\"arg1\")\n",
    "g.Hello(\"arg1\", \"arg2\")"
   ]
  },
  {
   "cell_type": "markdown",
   "id": "b9e20496",
   "metadata": {},
   "source": [
    "# Question 4:"
   ]
  },
  {
   "cell_type": "code",
   "execution_count": 27,
   "id": "9676fea0",
   "metadata": {},
   "outputs": [],
   "source": [
    "# 4. Create a method named 'Sum' that can accept multiple user inputs. Now add those user-defined input values using for loop and the function should return the addition of the numbers."
   ]
  },
  {
   "cell_type": "code",
   "execution_count": 28,
   "id": "f580b7c8",
   "metadata": {},
   "outputs": [],
   "source": [
    "class Calculator:\n",
    "    def Sum(self, *args):\n",
    "        total = 0\n",
    "        for num in args:\n",
    "            total += num\n",
    "        return total"
   ]
  },
  {
   "cell_type": "code",
   "execution_count": 29,
   "id": "3e2af91f",
   "metadata": {},
   "outputs": [
    {
     "name": "stdout",
     "output_type": "stream",
     "text": [
      "6\n",
      "22\n"
     ]
    }
   ],
   "source": [
    "calc = Calculator()\n",
    "print(calc.Sum(1, 2, 3))\n",
    "print(calc.Sum(4, 5, 6, 7))"
   ]
  },
  {
   "cell_type": "code",
   "execution_count": null,
   "id": "11d591ca",
   "metadata": {},
   "outputs": [],
   "source": []
  }
 ],
 "metadata": {
  "kernelspec": {
   "display_name": "Python 3 (ipykernel)",
   "language": "python",
   "name": "python3"
  },
  "language_info": {
   "codemirror_mode": {
    "name": "ipython",
    "version": 3
   },
   "file_extension": ".py",
   "mimetype": "text/x-python",
   "name": "python",
   "nbconvert_exporter": "python",
   "pygments_lexer": "ipython3",
   "version": "3.9.6"
  }
 },
 "nbformat": 4,
 "nbformat_minor": 5
}
